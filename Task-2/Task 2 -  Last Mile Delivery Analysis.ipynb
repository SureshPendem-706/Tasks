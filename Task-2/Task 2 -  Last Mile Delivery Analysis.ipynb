{
 "cells": [
  {
   "cell_type": "code",
   "execution_count": 4,
   "id": "adee3b67",
   "metadata": {},
   "outputs": [],
   "source": [
    "import pandas as pd "
   ]
  },
  {
   "cell_type": "code",
   "execution_count": 5,
   "id": "f6e07cba",
   "metadata": {},
   "outputs": [
    {
     "data": {
      "text/html": [
       "<div>\n",
       "<style scoped>\n",
       "    .dataframe tbody tr th:only-of-type {\n",
       "        vertical-align: middle;\n",
       "    }\n",
       "\n",
       "    .dataframe tbody tr th {\n",
       "        vertical-align: top;\n",
       "    }\n",
       "\n",
       "    .dataframe thead th {\n",
       "        text-align: right;\n",
       "    }\n",
       "</style>\n",
       "<table border=\"1\" class=\"dataframe\">\n",
       "  <thead>\n",
       "    <tr style=\"text-align: right;\">\n",
       "      <th></th>\n",
       "      <th>order_id</th>\n",
       "      <th>time_stamp</th>\n",
       "      <th>status</th>\n",
       "    </tr>\n",
       "  </thead>\n",
       "  <tbody>\n",
       "    <tr>\n",
       "      <th>0</th>\n",
       "      <td>321230114</td>\n",
       "      <td>2020-12-11 00:01:29.000000000</td>\n",
       "      <td>Pending</td>\n",
       "    </tr>\n",
       "    <tr>\n",
       "      <th>1</th>\n",
       "      <td>321230114</td>\n",
       "      <td>2020-12-11 00:06:29.000000000</td>\n",
       "      <td>Out For Delivery</td>\n",
       "    </tr>\n",
       "    <tr>\n",
       "      <th>2</th>\n",
       "      <td>321230114</td>\n",
       "      <td>2020-12-11 00:19:13.299151076</td>\n",
       "      <td>Delivered</td>\n",
       "    </tr>\n",
       "    <tr>\n",
       "      <th>3</th>\n",
       "      <td>321230115</td>\n",
       "      <td>2020-12-11 00:36:02.000000000</td>\n",
       "      <td>Pending</td>\n",
       "    </tr>\n",
       "    <tr>\n",
       "      <th>4</th>\n",
       "      <td>321230115</td>\n",
       "      <td>2020-12-11 00:41:02.000000000</td>\n",
       "      <td>Out For Delivery</td>\n",
       "    </tr>\n",
       "  </tbody>\n",
       "</table>\n",
       "</div>"
      ],
      "text/plain": [
       "    order_id                     time_stamp            status\n",
       "0  321230114  2020-12-11 00:01:29.000000000           Pending\n",
       "1  321230114  2020-12-11 00:06:29.000000000  Out For Delivery\n",
       "2  321230114  2020-12-11 00:19:13.299151076         Delivered\n",
       "3  321230115  2020-12-11 00:36:02.000000000           Pending\n",
       "4  321230115  2020-12-11 00:41:02.000000000  Out For Delivery"
      ]
     },
     "execution_count": 5,
     "metadata": {},
     "output_type": "execute_result"
    }
   ],
   "source": [
    "deliveries = pd.read_csv(r\"C:\\Users\\SURESH\\Inno 271-273\\GenAI Internship\\Task-2\\diminos_data_v2\\deliveries.csv\")\n",
    "deliveries.head()"
   ]
  },
  {
   "cell_type": "code",
   "execution_count": 6,
   "id": "daf8f46d",
   "metadata": {},
   "outputs": [
    {
     "name": "stdout",
     "output_type": "stream",
     "text": [
      "<class 'pandas.core.frame.DataFrame'>\n",
      "RangeIndex: 1363008 entries, 0 to 1363007\n",
      "Data columns (total 3 columns):\n",
      " #   Column      Non-Null Count    Dtype \n",
      "---  ------      --------------    ----- \n",
      " 0   order_id    1363008 non-null  int64 \n",
      " 1   time_stamp  1363008 non-null  object\n",
      " 2   status      1363008 non-null  object\n",
      "dtypes: int64(1), object(2)\n",
      "memory usage: 31.2+ MB\n"
     ]
    }
   ],
   "source": [
    "deliveries.info()"
   ]
  },
  {
   "cell_type": "code",
   "execution_count": 7,
   "id": "da883a16",
   "metadata": {},
   "outputs": [],
   "source": [
    "deliveries['time_stamp'] = pd.to_datetime(deliveries['time_stamp'])"
   ]
  },
  {
   "cell_type": "code",
   "execution_count": 8,
   "id": "370b7271",
   "metadata": {},
   "outputs": [
    {
     "name": "stdout",
     "output_type": "stream",
     "text": [
      "<class 'pandas.core.frame.DataFrame'>\n",
      "RangeIndex: 1363008 entries, 0 to 1363007\n",
      "Data columns (total 3 columns):\n",
      " #   Column      Non-Null Count    Dtype         \n",
      "---  ------      --------------    -----         \n",
      " 0   order_id    1363008 non-null  int64         \n",
      " 1   time_stamp  1363008 non-null  datetime64[ns]\n",
      " 2   status      1363008 non-null  object        \n",
      "dtypes: datetime64[ns](1), int64(1), object(1)\n",
      "memory usage: 31.2+ MB\n"
     ]
    }
   ],
   "source": [
    "deliveries.info()"
   ]
  },
  {
   "cell_type": "code",
   "execution_count": 9,
   "id": "3f96a64a",
   "metadata": {},
   "outputs": [
    {
     "data": {
      "text/plain": [
       "0"
      ]
     },
     "execution_count": 9,
     "metadata": {},
     "output_type": "execute_result"
    }
   ],
   "source": [
    "deliveries.duplicated().sum()"
   ]
  },
  {
   "cell_type": "code",
   "execution_count": 10,
   "id": "0ab11ae7",
   "metadata": {},
   "outputs": [
    {
     "data": {
      "text/html": [
       "<div>\n",
       "<style scoped>\n",
       "    .dataframe tbody tr th:only-of-type {\n",
       "        vertical-align: middle;\n",
       "    }\n",
       "\n",
       "    .dataframe tbody tr th {\n",
       "        vertical-align: top;\n",
       "    }\n",
       "\n",
       "    .dataframe thead th {\n",
       "        text-align: right;\n",
       "    }\n",
       "</style>\n",
       "<table border=\"1\" class=\"dataframe\">\n",
       "  <thead>\n",
       "    <tr style=\"text-align: right;\">\n",
       "      <th></th>\n",
       "      <th>order_id</th>\n",
       "      <th>items_ordered</th>\n",
       "    </tr>\n",
       "  </thead>\n",
       "  <tbody>\n",
       "    <tr>\n",
       "      <th>0</th>\n",
       "      <td>321230114</td>\n",
       "      <td>['p_025', 'p_032', 'p_037']</td>\n",
       "    </tr>\n",
       "    <tr>\n",
       "      <th>1</th>\n",
       "      <td>321230115</td>\n",
       "      <td>['p_017', 'p_012']</td>\n",
       "    </tr>\n",
       "    <tr>\n",
       "      <th>2</th>\n",
       "      <td>321230116</td>\n",
       "      <td>['p_027', 'p_037']</td>\n",
       "    </tr>\n",
       "    <tr>\n",
       "      <th>3</th>\n",
       "      <td>321230117</td>\n",
       "      <td>['p_004', 'p_029']</td>\n",
       "    </tr>\n",
       "    <tr>\n",
       "      <th>4</th>\n",
       "      <td>321230118</td>\n",
       "      <td>['p_017', 'p_037']</td>\n",
       "    </tr>\n",
       "  </tbody>\n",
       "</table>\n",
       "</div>"
      ],
      "text/plain": [
       "    order_id                items_ordered\n",
       "0  321230114  ['p_025', 'p_032', 'p_037']\n",
       "1  321230115           ['p_017', 'p_012']\n",
       "2  321230116           ['p_027', 'p_037']\n",
       "3  321230117           ['p_004', 'p_029']\n",
       "4  321230118           ['p_017', 'p_037']"
      ]
     },
     "execution_count": 10,
     "metadata": {},
     "output_type": "execute_result"
    }
   ],
   "source": [
    "order_items = pd.read_csv(r\"C:\\Users\\SURESH\\Inno 271-273\\GenAI Internship\\Task-2\\diminos_data_v2\\order_items.csv\")\n",
    "order_items.head()"
   ]
  },
  {
   "cell_type": "code",
   "execution_count": 11,
   "id": "a464a0f8",
   "metadata": {},
   "outputs": [
    {
     "name": "stdout",
     "output_type": "stream",
     "text": [
      "<class 'pandas.core.frame.DataFrame'>\n",
      "RangeIndex: 454336 entries, 0 to 454335\n",
      "Data columns (total 2 columns):\n",
      " #   Column         Non-Null Count   Dtype \n",
      "---  ------         --------------   ----- \n",
      " 0   order_id       454336 non-null  int64 \n",
      " 1   items_ordered  454336 non-null  object\n",
      "dtypes: int64(1), object(1)\n",
      "memory usage: 6.9+ MB\n"
     ]
    }
   ],
   "source": [
    "order_items.info()"
   ]
  },
  {
   "cell_type": "code",
   "execution_count": 12,
   "id": "e9b8046b",
   "metadata": {},
   "outputs": [
    {
     "data": {
      "text/plain": [
       "0"
      ]
     },
     "execution_count": 12,
     "metadata": {},
     "output_type": "execute_result"
    }
   ],
   "source": [
    "order_items.duplicated().sum()"
   ]
  },
  {
   "cell_type": "code",
   "execution_count": 13,
   "id": "f9327f06",
   "metadata": {},
   "outputs": [
    {
     "data": {
      "text/html": [
       "<div>\n",
       "<style scoped>\n",
       "    .dataframe tbody tr th:only-of-type {\n",
       "        vertical-align: middle;\n",
       "    }\n",
       "\n",
       "    .dataframe tbody tr th {\n",
       "        vertical-align: top;\n",
       "    }\n",
       "\n",
       "    .dataframe thead th {\n",
       "        text-align: right;\n",
       "    }\n",
       "</style>\n",
       "<table border=\"1\" class=\"dataframe\">\n",
       "  <thead>\n",
       "    <tr style=\"text-align: right;\">\n",
       "      <th></th>\n",
       "      <th>order_id</th>\n",
       "      <th>order_placed_at</th>\n",
       "    </tr>\n",
       "  </thead>\n",
       "  <tbody>\n",
       "    <tr>\n",
       "      <th>0</th>\n",
       "      <td>321230114</td>\n",
       "      <td>2020-12-11 00:01:29</td>\n",
       "    </tr>\n",
       "    <tr>\n",
       "      <th>1</th>\n",
       "      <td>321230115</td>\n",
       "      <td>2020-12-11 00:36:02</td>\n",
       "    </tr>\n",
       "    <tr>\n",
       "      <th>2</th>\n",
       "      <td>321230116</td>\n",
       "      <td>2020-12-11 00:55:01</td>\n",
       "    </tr>\n",
       "    <tr>\n",
       "      <th>3</th>\n",
       "      <td>321230117</td>\n",
       "      <td>2020-12-11 01:05:27</td>\n",
       "    </tr>\n",
       "    <tr>\n",
       "      <th>4</th>\n",
       "      <td>321230118</td>\n",
       "      <td>2020-12-11 01:14:20</td>\n",
       "    </tr>\n",
       "  </tbody>\n",
       "</table>\n",
       "</div>"
      ],
      "text/plain": [
       "    order_id      order_placed_at\n",
       "0  321230114  2020-12-11 00:01:29\n",
       "1  321230115  2020-12-11 00:36:02\n",
       "2  321230116  2020-12-11 00:55:01\n",
       "3  321230117  2020-12-11 01:05:27\n",
       "4  321230118  2020-12-11 01:14:20"
      ]
     },
     "execution_count": 13,
     "metadata": {},
     "output_type": "execute_result"
    }
   ],
   "source": [
    "orders = pd.read_csv(r\"C:\\Users\\SURESH\\Inno 271-273\\GenAI Internship\\Task-2\\diminos_data_v2\\orders.csv\")\n",
    "orders.head()"
   ]
  },
  {
   "cell_type": "code",
   "execution_count": 14,
   "id": "74b83ab2",
   "metadata": {},
   "outputs": [
    {
     "name": "stdout",
     "output_type": "stream",
     "text": [
      "<class 'pandas.core.frame.DataFrame'>\n",
      "RangeIndex: 454336 entries, 0 to 454335\n",
      "Data columns (total 2 columns):\n",
      " #   Column           Non-Null Count   Dtype \n",
      "---  ------           --------------   ----- \n",
      " 0   order_id         454336 non-null  int64 \n",
      " 1   order_placed_at  454336 non-null  object\n",
      "dtypes: int64(1), object(1)\n",
      "memory usage: 6.9+ MB\n"
     ]
    }
   ],
   "source": [
    "orders.info()"
   ]
  },
  {
   "cell_type": "code",
   "execution_count": 15,
   "id": "4c0a486d",
   "metadata": {},
   "outputs": [
    {
     "name": "stdout",
     "output_type": "stream",
     "text": [
      "<class 'pandas.core.frame.DataFrame'>\n",
      "RangeIndex: 454336 entries, 0 to 454335\n",
      "Data columns (total 2 columns):\n",
      " #   Column           Non-Null Count   Dtype         \n",
      "---  ------           --------------   -----         \n",
      " 0   order_id         454336 non-null  int64         \n",
      " 1   order_placed_at  454336 non-null  datetime64[ns]\n",
      "dtypes: datetime64[ns](1), int64(1)\n",
      "memory usage: 6.9 MB\n"
     ]
    }
   ],
   "source": [
    "orders['order_placed_at'] = pd.to_datetime(orders['order_placed_at'])\n",
    "orders.info()"
   ]
  },
  {
   "cell_type": "code",
   "execution_count": 16,
   "id": "373a4c50",
   "metadata": {},
   "outputs": [
    {
     "data": {
      "text/plain": [
       "0"
      ]
     },
     "execution_count": 16,
     "metadata": {},
     "output_type": "execute_result"
    }
   ],
   "source": [
    "orders.duplicated().sum()"
   ]
  },
  {
   "cell_type": "code",
   "execution_count": 17,
   "id": "febfde26",
   "metadata": {},
   "outputs": [
    {
     "data": {
      "text/html": [
       "<div>\n",
       "<style scoped>\n",
       "    .dataframe tbody tr th:only-of-type {\n",
       "        vertical-align: middle;\n",
       "    }\n",
       "\n",
       "    .dataframe tbody tr th {\n",
       "        vertical-align: top;\n",
       "    }\n",
       "\n",
       "    .dataframe thead th {\n",
       "        text-align: right;\n",
       "    }\n",
       "</style>\n",
       "<table border=\"1\" class=\"dataframe\">\n",
       "  <thead>\n",
       "    <tr style=\"text-align: right;\">\n",
       "      <th></th>\n",
       "      <th>item_id</th>\n",
       "      <th>category</th>\n",
       "      <th>Item</th>\n",
       "      <th>Size</th>\n",
       "      <th>Price</th>\n",
       "    </tr>\n",
       "  </thead>\n",
       "  <tbody>\n",
       "    <tr>\n",
       "      <th>0</th>\n",
       "      <td>p_001</td>\n",
       "      <td>Veg</td>\n",
       "      <td>Margherita</td>\n",
       "      <td>Regular</td>\n",
       "      <td>109</td>\n",
       "    </tr>\n",
       "    <tr>\n",
       "      <th>1</th>\n",
       "      <td>p_002</td>\n",
       "      <td>Veg</td>\n",
       "      <td>Margherita</td>\n",
       "      <td>Medium</td>\n",
       "      <td>245</td>\n",
       "    </tr>\n",
       "    <tr>\n",
       "      <th>2</th>\n",
       "      <td>p_003</td>\n",
       "      <td>Veg</td>\n",
       "      <td>Margherita</td>\n",
       "      <td>Large</td>\n",
       "      <td>455</td>\n",
       "    </tr>\n",
       "    <tr>\n",
       "      <th>3</th>\n",
       "      <td>p_004</td>\n",
       "      <td>Veg</td>\n",
       "      <td>Double Cheese Margherita</td>\n",
       "      <td>Regular</td>\n",
       "      <td>215</td>\n",
       "    </tr>\n",
       "    <tr>\n",
       "      <th>4</th>\n",
       "      <td>p_005</td>\n",
       "      <td>Veg</td>\n",
       "      <td>Double Cheese Margherita</td>\n",
       "      <td>Medium</td>\n",
       "      <td>385</td>\n",
       "    </tr>\n",
       "  </tbody>\n",
       "</table>\n",
       "</div>"
      ],
      "text/plain": [
       "  item_id category                      Item     Size  Price\n",
       "0   p_001      Veg                Margherita  Regular    109\n",
       "1   p_002      Veg                Margherita   Medium    245\n",
       "2   p_003      Veg                Margherita    Large    455\n",
       "3   p_004      Veg  Double Cheese Margherita  Regular    215\n",
       "4   p_005      Veg  Double Cheese Margherita   Medium    385"
      ]
     },
     "execution_count": 17,
     "metadata": {},
     "output_type": "execute_result"
    }
   ],
   "source": [
    "products = pd.read_csv(r\"C:\\Users\\SURESH\\Inno 271-273\\GenAI Internship\\Task-2\\diminos_data_v2\\products.csv\")\n",
    "products.head()"
   ]
  },
  {
   "cell_type": "code",
   "execution_count": null,
   "id": "7e61eec6",
   "metadata": {},
   "outputs": [],
   "source": []
  },
  {
   "cell_type": "code",
   "execution_count": 18,
   "id": "a2086b78",
   "metadata": {},
   "outputs": [
    {
     "name": "stdout",
     "output_type": "stream",
     "text": [
      "<class 'pandas.core.frame.DataFrame'>\n",
      "RangeIndex: 37 entries, 0 to 36\n",
      "Data columns (total 5 columns):\n",
      " #   Column    Non-Null Count  Dtype \n",
      "---  ------    --------------  ----- \n",
      " 0   item_id   37 non-null     object\n",
      " 1   category  37 non-null     object\n",
      " 2   Item      37 non-null     object\n",
      " 3   Size      37 non-null     object\n",
      " 4   Price     37 non-null     int64 \n",
      "dtypes: int64(1), object(4)\n",
      "memory usage: 1.6+ KB\n"
     ]
    }
   ],
   "source": [
    "products.info()"
   ]
  },
  {
   "cell_type": "code",
   "execution_count": 19,
   "id": "6cf1ad74",
   "metadata": {},
   "outputs": [
    {
     "data": {
      "text/plain": [
       "0"
      ]
     },
     "execution_count": 19,
     "metadata": {},
     "output_type": "execute_result"
    }
   ],
   "source": [
    "products.duplicated().sum()"
   ]
  },
  {
   "cell_type": "code",
   "execution_count": 20,
   "id": "1b2e64c6",
   "metadata": {},
   "outputs": [
    {
     "name": "stdout",
     "output_type": "stream",
     "text": [
      "(1363008, 3)\n",
      "(454336, 2)\n",
      "(454336, 2)\n",
      "(37, 5)\n"
     ]
    }
   ],
   "source": [
    "print(deliveries.shape)\n",
    "print(order_items.shape)\n",
    "print(orders.shape)\n",
    "print(products.shape)"
   ]
  },
  {
   "cell_type": "markdown",
   "id": "4136df28",
   "metadata": {},
   "source": [
    "# 1. What is the average Delivery Time (in minutes) taken by the store to deliver the Pizza?\n",
    "\n",
    "Round off the answer upto 2 decimal places."
   ]
  },
  {
   "cell_type": "code",
   "execution_count": 21,
   "id": "27953bd2",
   "metadata": {},
   "outputs": [
    {
     "name": "stdout",
     "output_type": "stream",
     "text": [
      "20.65\n"
     ]
    }
   ],
   "source": [
    "df_merge = pd.merge(deliveries, orders, on = 'order_id', how = 'inner')\n",
    "df_merge['delivery_time'] = df_merge['time_stamp'] - df_merge['order_placed_at']\n",
    "df_merge['delivery_time_minutes'] = df_merge['delivery_time']/ pd.Timedelta(minutes = 1)\n",
    "avg_delivery_time = df_merge[df_merge['status'] == 'Delivered']['delivery_time_minutes'].mean()\n",
    "avg_delivery_time_record = round(avg_delivery_time, 2)\n",
    "print(avg_delivery_time_record)"
   ]
  },
  {
   "cell_type": "markdown",
   "id": "37feb5bd",
   "metadata": {},
   "source": [
    "# 2. What is the 99th percentile Delivery Time (in minutes) taken by the store to deliver the Pizza?"
   ]
  },
  {
   "cell_type": "code",
   "execution_count": 22,
   "id": "60cef4df",
   "metadata": {},
   "outputs": [
    {
     "name": "stdout",
     "output_type": "stream",
     "text": [
      "31\n"
     ]
    }
   ],
   "source": [
    "percentile_99 = df_merge[df_merge['status'] == 'Delivered']['delivery_time_minutes'].quantile(0.99)\n",
    "percentile_delivery_time_round = round(percentile_99)\n",
    "print(percentile_delivery_time_round)"
   ]
  },
  {
   "cell_type": "markdown",
   "id": "fb6189bb",
   "metadata": {},
   "source": [
    "# 3. Which metric is the better choice to determine the stores performance based on Delivery Time?\n"
   ]
  },
  {
   "cell_type": "code",
   "execution_count": 23,
   "id": "274d6927",
   "metadata": {},
   "outputs": [
    {
     "data": {
      "text/plain": [
       "20"
      ]
     },
     "execution_count": 23,
     "metadata": {},
     "output_type": "execute_result"
    }
   ],
   "source": [
    "median_delivery_time = df_merge[df_merge['status'] == 'Delivered']['delivery_time_minutes'].median()\n",
    "round(median_delivery_time)"
   ]
  },
  {
   "cell_type": "code",
   "execution_count": 24,
   "id": "94a45ec6",
   "metadata": {},
   "outputs": [
    {
     "data": {
      "text/plain": [
       "26"
      ]
     },
     "execution_count": 24,
     "metadata": {},
     "output_type": "execute_result"
    }
   ],
   "source": [
    "percentile_95 = df_merge[df_merge['status'] == 'Delivered']['delivery_time_minutes'].quantile(0.95)\n",
    "round(percentile_95)"
   ]
  },
  {
   "cell_type": "markdown",
   "id": "04bc3a0a",
   "metadata": {},
   "source": [
    "# 4. What is the order id with the maximum delivery time?\n"
   ]
  },
  {
   "cell_type": "code",
   "execution_count": 25,
   "id": "734b34d1",
   "metadata": {},
   "outputs": [
    {
     "data": {
      "text/plain": [
       "321629049"
      ]
     },
     "execution_count": 25,
     "metadata": {},
     "output_type": "execute_result"
    }
   ],
   "source": [
    "df_merge[df_merge['delivery_time'] == df_merge['delivery_time'].max()]['order_id'].iloc[0]"
   ]
  },
  {
   "cell_type": "markdown",
   "id": "7ce9e7df",
   "metadata": {},
   "source": [
    "# 5. How many pizza's were ordered between 1st January and 31st January 2024 (INCLUSIVE)?\n"
   ]
  },
  {
   "cell_type": "code",
   "execution_count": 26,
   "id": "0e770c34",
   "metadata": {},
   "outputs": [
    {
     "data": {
      "text/plain": [
       "11894"
      ]
     },
     "execution_count": 26,
     "metadata": {},
     "output_type": "execute_result"
    }
   ],
   "source": [
    "orders[(orders['order_placed_at'] >= '2024-01-01') & (orders['order_placed_at'] <= '2024-01-31')].shape[0]"
   ]
  },
  {
   "cell_type": "markdown",
   "id": "a8748e65",
   "metadata": {},
   "source": [
    "# 6. How many order took more than 30 minutes to deliver between 1st January and 31st January 2024 (INCLUSIVE)?\n",
    "\n",
    "This is important as Diminos promise 30 minutes delivery. For any pizza delivered after 30 minutes, customer will get a full refund."
   ]
  },
  {
   "cell_type": "code",
   "execution_count": 27,
   "id": "dd063326",
   "metadata": {},
   "outputs": [
    {
     "data": {
      "text/plain": [
       "6119"
      ]
     },
     "execution_count": 27,
     "metadata": {},
     "output_type": "execute_result"
    }
   ],
   "source": [
    "df_merge[df_merge['delivery_time_minutes'] >= 30.0].shape[0]"
   ]
  },
  {
   "cell_type": "markdown",
   "id": "de415c76",
   "metadata": {},
   "source": [
    "# 7. What is the total amount Pizza store lost in 2023 due to refunds on late deliveries?\n"
   ]
  },
  {
   "cell_type": "code",
   "execution_count": 28,
   "id": "97ff552e",
   "metadata": {},
   "outputs": [],
   "source": [
    "import ast"
   ]
  },
  {
   "cell_type": "code",
   "execution_count": 29,
   "id": "fd6a70e4",
   "metadata": {},
   "outputs": [],
   "source": [
    "df_merge_2 = pd.merge(df_merge, order_items, on = 'order_id', how = 'inner')\n",
    "df_merge_2['items_ordered'] = df_merge_2['items_ordered'].apply(ast.literal_eval)\n",
    "df_merge_2 = df_merge_2.explode('items_ordered')\n",
    "df_merge_2 = pd.merge(df_merge_2, products, left_on='items_ordered', right_on='item_id', how='left')\n",
    "df_merge_2['delivery_time'] = df_merge_2['time_stamp'] - df_merge_2['order_placed_at']\n",
    "df_merge_2['delivery_time_minutes'] = df_merge_2['delivery_time']/pd.Timedelta(minutes = 1)"
   ]
  },
  {
   "cell_type": "code",
   "execution_count": 30,
   "id": "50b43248",
   "metadata": {},
   "outputs": [
    {
     "data": {
      "text/plain": [
       "1826393"
      ]
     },
     "execution_count": 30,
     "metadata": {},
     "output_type": "execute_result"
    }
   ],
   "source": [
    "# refund_percentage = 1.0\n",
    "late_deliveries_2023 = df_merge_2[(df_merge_2['order_placed_at'].dt.year == 2023) & (df_merge_2['delivery_time_minutes'] > 30)]\n",
    "late_deliveries_2023['Price'].sum()"
   ]
  },
  {
   "cell_type": "markdown",
   "id": "2c47fb1d",
   "metadata": {},
   "source": [
    "# 8. In which year Pizza store has lost maximum amount due to refunds on late deliveries?\n"
   ]
  },
  {
   "cell_type": "code",
   "execution_count": 31,
   "id": "01567525",
   "metadata": {},
   "outputs": [
    {
     "data": {
      "text/plain": [
       "2023"
      ]
     },
     "execution_count": 31,
     "metadata": {},
     "output_type": "execute_result"
    }
   ],
   "source": [
    "loss_amount = df_merge_2[(df_merge_2['status'] == 'Delivered') & (df_merge_2['delivery_time_minutes'] > 30.0)]\n",
    "loss_amount['order_placed_at'].dt.year.value_counts().idxmax()"
   ]
  },
  {
   "cell_type": "markdown",
   "id": "b8fc862b",
   "metadata": {},
   "source": [
    "# 9. How much revenue is generated by the pizza store till date? Don't include the refund amount in revenue.\n"
   ]
  },
  {
   "cell_type": "code",
   "execution_count": 32,
   "id": "a62d0276",
   "metadata": {},
   "outputs": [
    {
     "data": {
      "text/plain": [
       "1217979030"
      ]
     },
     "execution_count": 32,
     "metadata": {},
     "output_type": "execute_result"
    }
   ],
   "source": [
    "total_revenue = df_merge_2['Price'].sum()\n",
    "loss_revenue = loss_amount['Price'].sum()\n",
    "revenue = total_revenue - loss_revenue\n",
    "revenue"
   ]
  },
  {
   "cell_type": "markdown",
   "id": "b20e4336",
   "metadata": {},
   "source": [
    "# 10. (BONUS QUESTION) Which distribution can be used to model the number of orders incoming each hour? If we can somehow model it, which problem for owner of Pizza Store can be solved? \n",
    "\n",
    "(Implement this in a Jupyter Notebook. Upload your implementation on the google drive and share the link below.) "
   ]
  },
  {
   "cell_type": "code",
   "execution_count": 41,
   "id": "c0b39c8f",
   "metadata": {},
   "outputs": [
    {
     "data": {
      "image/png": "[encoded data removed]",
      "text/plain": [
       "<Figure size 1000x600 with 1 Axes>"
      ]
     },
     "metadata": {},
     "output_type": "display_data"
    }
   ],
   "source": [
    "import numpy as np\n",
    "import seaborn as sns\n",
    "import matplotlib.pyplot as plt\n",
    "from scipy.stats import poisson\n",
    "\n",
    "orders_per_hour = orders.resample('H', on='order_placed_at').size()\n",
    "\n",
    "# Calculate the average number of orders per hour (lambda)\n",
    "avg_per_hour = orders_per_hour.mean()\n",
    "\n",
    "# Fit Poisson distribution\n",
    "x = np.arange(0, orders_per_hour.max() + 1)\n",
    "poisson_dist = poisson.pmf(x, avg_per_hour)\n",
    "\n",
    "# Plotting\n",
    "plt.figure(figsize=(10, 6))\n",
    "sns.histplot(orders_per_hour, bins=30, kde=False, stat='density', label='Observed Orders', color='blue')\n",
    "plt.plot(x, poisson_dist, 'ro-', label='Poisson Distribution (λ={:.2f})'.format(avg_per_hour))\n",
    "plt.xlabel('Number of Orders')\n",
    "plt.ylabel('Density')\n",
    "plt.title('Poisson Distribution vs Observed Orders')\n",
    "plt.legend()\n",
    "plt.show()"
   ]
  },
  {
   "cell_type": "code",
   "execution_count": 42,
   "id": "aa27bfec",
   "metadata": {},
   "outputs": [
    {
     "data": {
      "text/plain": [
       "302"
      ]
     },
     "execution_count": 42,
     "metadata": {},
     "output_type": "execute_result"
    }
   ],
   "source": [
    "ordersper_hour = orders.resample('H', on='order_placed_at').size()\n",
    "ordersper_hour.max()"
   ]
  },
  {
   "cell_type": "code",
   "execution_count": 39,
   "id": "8bbf9c8d",
   "metadata": {},
   "outputs": [
    {
     "data": {
      "text/plain": [
       "16.504504504504503"
      ]
     },
     "execution_count": 39,
     "metadata": {},
     "output_type": "execute_result"
    }
   ],
   "source": [
    "avg = ordersper_hour.mean()\n",
    "avg\n"
   ]
  },
  {
   "cell_type": "code",
   "execution_count": null,
   "id": "0089b24c",
   "metadata": {},
   "outputs": [],
   "source": []
  }
 ],
 "metadata": {
  "kernelspec": {
   "display_name": "Python 3 (ipykernel)",
   "language": "python",
   "name": "python3"
  },
  "language_info": {
   "codemirror_mode": {
    "name": "ipython",
    "version": 3
   },
   "file_extension": ".py",
   "mimetype": "text/x-python",
   "name": "python",
   "nbconvert_exporter": "python",
   "pygments_lexer": "ipython3",
   "version": "3.11.5"
  },
  "varInspector": {
   "cols": {
    "lenName": 16,
    "lenType": 16,
    "lenVar": 40
   },
   "kernels_config": {
    "python": {
     "delete_cmd_postfix": "",
     "delete_cmd_prefix": "del ",
     "library": "var_list.py",
     "varRefreshCmd": "print(var_dic_list())"
    },
    "r": {
     "delete_cmd_postfix": ") ",
     "delete_cmd_prefix": "rm(",
     "library": "var_list.r",
     "varRefreshCmd": "cat(var_dic_list()) "
    }
   },
   "types_to_exclude": [
    "module",
    "function",
    "builtin_function_or_method",
    "instance",
    "_Feature"
   ],
   "window_display": false
  }
 },
 "nbformat": 4,
 "nbformat_minor": 5
}
